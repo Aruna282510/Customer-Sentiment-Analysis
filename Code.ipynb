{
  "nbformat": 4,
  "nbformat_minor": 0,
  "metadata": {
    "colab": {
      "name": "Datathon2.ipynb",
      "provenance": [],
      "collapsed_sections": [],
      "authorship_tag": "ABX9TyOFs98Y5PZVAXxK8qJNWEJV",
      "include_colab_link": true
    },
    "kernelspec": {
      "name": "python3",
      "display_name": "Python 3"
    },
    "language_info": {
      "name": "python"
    }
  },
  "cells": [
    {
      "cell_type": "markdown",
      "metadata": {
        "id": "view-in-github",
        "colab_type": "text"
      },
      "source": [
        "<a href=\"https://colab.research.google.com/github/sumedhsp04/Customer-Sentiment-Analysis/blob/main/Code.ipynb\" target=\"_parent\"><img src=\"https://colab.research.google.com/assets/colab-badge.svg\" alt=\"Open In Colab\"/></a>"
      ]
    },
    {
      "cell_type": "markdown",
      "source": [
        "##**Connect Colab with Google Drive**"
      ],
      "metadata": {
        "id": "5ZofoZY15eNX"
      }
    },
    {
      "cell_type": "code",
      "execution_count": 1,
      "metadata": {
        "colab": {
          "base_uri": "https://localhost:8080/"
        },
        "id": "PHCclkoJt7P5",
        "outputId": "bf994e23-f461-4e29-8e3f-bc0b769ab8b9"
      },
      "outputs": [
        {
          "output_type": "stream",
          "name": "stdout",
          "text": [
            "Mounted at /content/gdrive\n"
          ]
        }
      ],
      "source": [
        "from google.colab import drive\n",
        "drive.mount(\"/content/gdrive\")"
      ]
    },
    {
      "cell_type": "markdown",
      "source": [
        "##**Imported required libraries**"
      ],
      "metadata": {
        "id": "a2HfeQMQ58nR"
      }
    },
    {
      "cell_type": "code",
      "source": [
        "import pandas as pd \n",
        "import matplotlib.pyplot as plt\n",
        "from wordcloud import WordCloud, STOPWORDS"
      ],
      "metadata": {
        "id": "7y1jUtr6ub8v"
      },
      "execution_count": 22,
      "outputs": []
    },
    {
      "cell_type": "markdown",
      "source": [
        "##Reading consumer complaints dataset"
      ],
      "metadata": {
        "id": "J1Er3Icc6eiR"
      }
    },
    {
      "cell_type": "code",
      "source": [
        "df= pd.read_csv('/content/gdrive/My Drive/Datasets/consumer_complaints.csv')\n",
        "df.head()"
      ],
      "metadata": {
        "colab": {
          "base_uri": "https://localhost:8080/",
          "height": 478
        },
        "id": "kKXYkvC7ucDP",
        "outputId": "f23b0311-0fd4-4af0-dc1f-6b0ee8d16e4a"
      },
      "execution_count": 23,
      "outputs": [
        {
          "output_type": "stream",
          "name": "stderr",
          "text": [
            "/usr/local/lib/python3.7/dist-packages/IPython/core/interactiveshell.py:2882: DtypeWarning: Columns (5,11) have mixed types.Specify dtype option on import or set low_memory=False.\n",
            "  exec(code_obj, self.user_global_ns, self.user_ns)\n"
          ]
        },
        {
          "output_type": "execute_result",
          "data": {
            "text/plain": [
              "  date_received           product               sub_product  \\\n",
              "0    08/30/2013          Mortgage            Other mortgage   \n",
              "1    08/30/2013          Mortgage            Other mortgage   \n",
              "2    08/30/2013  Credit reporting                       NaN   \n",
              "3    08/30/2013      Student loan  Non-federal student loan   \n",
              "4    08/30/2013   Debt collection               Credit card   \n",
              "\n",
              "                                      issue  \\\n",
              "0  Loan modification,collection,foreclosure   \n",
              "1  Loan servicing, payments, escrow account   \n",
              "2    Incorrect information on credit report   \n",
              "3                        Repaying your loan   \n",
              "4        False statements or representation   \n",
              "\n",
              "                           sub_issue consumer_complaint_narrative  \\\n",
              "0                                NaN                          NaN   \n",
              "1                                NaN                          NaN   \n",
              "2                     Account status                          NaN   \n",
              "3                 Repaying your loan                          NaN   \n",
              "4  Attempted to collect wrong amount                          NaN   \n",
              "\n",
              "  company_public_response                          company state zipcode tags  \\\n",
              "0                     NaN                     U.S. Bancorp    CA   95993  NaN   \n",
              "1                     NaN            Wells Fargo & Company    CA   91104  NaN   \n",
              "2                     NaN            Wells Fargo & Company    NY   11764  NaN   \n",
              "3                     NaN          Navient Solutions, Inc.    MD   21402  NaN   \n",
              "4                     NaN  Resurgent Capital Services L.P.    GA   30106  NaN   \n",
              "\n",
              "  consumer_consent_provided submitted_via date_sent_to_company  \\\n",
              "0                       NaN      Referral           09/03/2013   \n",
              "1                       NaN      Referral           09/03/2013   \n",
              "2                       NaN   Postal mail           09/18/2013   \n",
              "3                       NaN         Email           08/30/2013   \n",
              "4                       NaN           Web           08/30/2013   \n",
              "\n",
              "  company_response_to_consumer timely_response consumer_disputed?  \\\n",
              "0      Closed with explanation             Yes                Yes   \n",
              "1      Closed with explanation             Yes                Yes   \n",
              "2      Closed with explanation             Yes                 No   \n",
              "3      Closed with explanation             Yes                Yes   \n",
              "4      Closed with explanation             Yes                Yes   \n",
              "\n",
              "   complaint_id  \n",
              "0        511074  \n",
              "1        511080  \n",
              "2        510473  \n",
              "3        510326  \n",
              "4        511067  "
            ],
            "text/html": [
              "\n",
              "  <div id=\"df-6b6581f4-142b-40d4-9a11-9ba86f2346fe\">\n",
              "    <div class=\"colab-df-container\">\n",
              "      <div>\n",
              "<style scoped>\n",
              "    .dataframe tbody tr th:only-of-type {\n",
              "        vertical-align: middle;\n",
              "    }\n",
              "\n",
              "    .dataframe tbody tr th {\n",
              "        vertical-align: top;\n",
              "    }\n",
              "\n",
              "    .dataframe thead th {\n",
              "        text-align: right;\n",
              "    }\n",
              "</style>\n",
              "<table border=\"1\" class=\"dataframe\">\n",
              "  <thead>\n",
              "    <tr style=\"text-align: right;\">\n",
              "      <th></th>\n",
              "      <th>date_received</th>\n",
              "      <th>product</th>\n",
              "      <th>sub_product</th>\n",
              "      <th>issue</th>\n",
              "      <th>sub_issue</th>\n",
              "      <th>consumer_complaint_narrative</th>\n",
              "      <th>company_public_response</th>\n",
              "      <th>company</th>\n",
              "      <th>state</th>\n",
              "      <th>zipcode</th>\n",
              "      <th>tags</th>\n",
              "      <th>consumer_consent_provided</th>\n",
              "      <th>submitted_via</th>\n",
              "      <th>date_sent_to_company</th>\n",
              "      <th>company_response_to_consumer</th>\n",
              "      <th>timely_response</th>\n",
              "      <th>consumer_disputed?</th>\n",
              "      <th>complaint_id</th>\n",
              "    </tr>\n",
              "  </thead>\n",
              "  <tbody>\n",
              "    <tr>\n",
              "      <th>0</th>\n",
              "      <td>08/30/2013</td>\n",
              "      <td>Mortgage</td>\n",
              "      <td>Other mortgage</td>\n",
              "      <td>Loan modification,collection,foreclosure</td>\n",
              "      <td>NaN</td>\n",
              "      <td>NaN</td>\n",
              "      <td>NaN</td>\n",
              "      <td>U.S. Bancorp</td>\n",
              "      <td>CA</td>\n",
              "      <td>95993</td>\n",
              "      <td>NaN</td>\n",
              "      <td>NaN</td>\n",
              "      <td>Referral</td>\n",
              "      <td>09/03/2013</td>\n",
              "      <td>Closed with explanation</td>\n",
              "      <td>Yes</td>\n",
              "      <td>Yes</td>\n",
              "      <td>511074</td>\n",
              "    </tr>\n",
              "    <tr>\n",
              "      <th>1</th>\n",
              "      <td>08/30/2013</td>\n",
              "      <td>Mortgage</td>\n",
              "      <td>Other mortgage</td>\n",
              "      <td>Loan servicing, payments, escrow account</td>\n",
              "      <td>NaN</td>\n",
              "      <td>NaN</td>\n",
              "      <td>NaN</td>\n",
              "      <td>Wells Fargo &amp; Company</td>\n",
              "      <td>CA</td>\n",
              "      <td>91104</td>\n",
              "      <td>NaN</td>\n",
              "      <td>NaN</td>\n",
              "      <td>Referral</td>\n",
              "      <td>09/03/2013</td>\n",
              "      <td>Closed with explanation</td>\n",
              "      <td>Yes</td>\n",
              "      <td>Yes</td>\n",
              "      <td>511080</td>\n",
              "    </tr>\n",
              "    <tr>\n",
              "      <th>2</th>\n",
              "      <td>08/30/2013</td>\n",
              "      <td>Credit reporting</td>\n",
              "      <td>NaN</td>\n",
              "      <td>Incorrect information on credit report</td>\n",
              "      <td>Account status</td>\n",
              "      <td>NaN</td>\n",
              "      <td>NaN</td>\n",
              "      <td>Wells Fargo &amp; Company</td>\n",
              "      <td>NY</td>\n",
              "      <td>11764</td>\n",
              "      <td>NaN</td>\n",
              "      <td>NaN</td>\n",
              "      <td>Postal mail</td>\n",
              "      <td>09/18/2013</td>\n",
              "      <td>Closed with explanation</td>\n",
              "      <td>Yes</td>\n",
              "      <td>No</td>\n",
              "      <td>510473</td>\n",
              "    </tr>\n",
              "    <tr>\n",
              "      <th>3</th>\n",
              "      <td>08/30/2013</td>\n",
              "      <td>Student loan</td>\n",
              "      <td>Non-federal student loan</td>\n",
              "      <td>Repaying your loan</td>\n",
              "      <td>Repaying your loan</td>\n",
              "      <td>NaN</td>\n",
              "      <td>NaN</td>\n",
              "      <td>Navient Solutions, Inc.</td>\n",
              "      <td>MD</td>\n",
              "      <td>21402</td>\n",
              "      <td>NaN</td>\n",
              "      <td>NaN</td>\n",
              "      <td>Email</td>\n",
              "      <td>08/30/2013</td>\n",
              "      <td>Closed with explanation</td>\n",
              "      <td>Yes</td>\n",
              "      <td>Yes</td>\n",
              "      <td>510326</td>\n",
              "    </tr>\n",
              "    <tr>\n",
              "      <th>4</th>\n",
              "      <td>08/30/2013</td>\n",
              "      <td>Debt collection</td>\n",
              "      <td>Credit card</td>\n",
              "      <td>False statements or representation</td>\n",
              "      <td>Attempted to collect wrong amount</td>\n",
              "      <td>NaN</td>\n",
              "      <td>NaN</td>\n",
              "      <td>Resurgent Capital Services L.P.</td>\n",
              "      <td>GA</td>\n",
              "      <td>30106</td>\n",
              "      <td>NaN</td>\n",
              "      <td>NaN</td>\n",
              "      <td>Web</td>\n",
              "      <td>08/30/2013</td>\n",
              "      <td>Closed with explanation</td>\n",
              "      <td>Yes</td>\n",
              "      <td>Yes</td>\n",
              "      <td>511067</td>\n",
              "    </tr>\n",
              "  </tbody>\n",
              "</table>\n",
              "</div>\n",
              "      <button class=\"colab-df-convert\" onclick=\"convertToInteractive('df-6b6581f4-142b-40d4-9a11-9ba86f2346fe')\"\n",
              "              title=\"Convert this dataframe to an interactive table.\"\n",
              "              style=\"display:none;\">\n",
              "        \n",
              "  <svg xmlns=\"http://www.w3.org/2000/svg\" height=\"24px\"viewBox=\"0 0 24 24\"\n",
              "       width=\"24px\">\n",
              "    <path d=\"M0 0h24v24H0V0z\" fill=\"none\"/>\n",
              "    <path d=\"M18.56 5.44l.94 2.06.94-2.06 2.06-.94-2.06-.94-.94-2.06-.94 2.06-2.06.94zm-11 1L8.5 8.5l.94-2.06 2.06-.94-2.06-.94L8.5 2.5l-.94 2.06-2.06.94zm10 10l.94 2.06.94-2.06 2.06-.94-2.06-.94-.94-2.06-.94 2.06-2.06.94z\"/><path d=\"M17.41 7.96l-1.37-1.37c-.4-.4-.92-.59-1.43-.59-.52 0-1.04.2-1.43.59L10.3 9.45l-7.72 7.72c-.78.78-.78 2.05 0 2.83L4 21.41c.39.39.9.59 1.41.59.51 0 1.02-.2 1.41-.59l7.78-7.78 2.81-2.81c.8-.78.8-2.07 0-2.86zM5.41 20L4 18.59l7.72-7.72 1.47 1.35L5.41 20z\"/>\n",
              "  </svg>\n",
              "      </button>\n",
              "      \n",
              "  <style>\n",
              "    .colab-df-container {\n",
              "      display:flex;\n",
              "      flex-wrap:wrap;\n",
              "      gap: 12px;\n",
              "    }\n",
              "\n",
              "    .colab-df-convert {\n",
              "      background-color: #E8F0FE;\n",
              "      border: none;\n",
              "      border-radius: 50%;\n",
              "      cursor: pointer;\n",
              "      display: none;\n",
              "      fill: #1967D2;\n",
              "      height: 32px;\n",
              "      padding: 0 0 0 0;\n",
              "      width: 32px;\n",
              "    }\n",
              "\n",
              "    .colab-df-convert:hover {\n",
              "      background-color: #E2EBFA;\n",
              "      box-shadow: 0px 1px 2px rgba(60, 64, 67, 0.3), 0px 1px 3px 1px rgba(60, 64, 67, 0.15);\n",
              "      fill: #174EA6;\n",
              "    }\n",
              "\n",
              "    [theme=dark] .colab-df-convert {\n",
              "      background-color: #3B4455;\n",
              "      fill: #D2E3FC;\n",
              "    }\n",
              "\n",
              "    [theme=dark] .colab-df-convert:hover {\n",
              "      background-color: #434B5C;\n",
              "      box-shadow: 0px 1px 3px 1px rgba(0, 0, 0, 0.15);\n",
              "      filter: drop-shadow(0px 1px 2px rgba(0, 0, 0, 0.3));\n",
              "      fill: #FFFFFF;\n",
              "    }\n",
              "  </style>\n",
              "\n",
              "      <script>\n",
              "        const buttonEl =\n",
              "          document.querySelector('#df-6b6581f4-142b-40d4-9a11-9ba86f2346fe button.colab-df-convert');\n",
              "        buttonEl.style.display =\n",
              "          google.colab.kernel.accessAllowed ? 'block' : 'none';\n",
              "\n",
              "        async function convertToInteractive(key) {\n",
              "          const element = document.querySelector('#df-6b6581f4-142b-40d4-9a11-9ba86f2346fe');\n",
              "          const dataTable =\n",
              "            await google.colab.kernel.invokeFunction('convertToInteractive',\n",
              "                                                     [key], {});\n",
              "          if (!dataTable) return;\n",
              "\n",
              "          const docLinkHtml = 'Like what you see? Visit the ' +\n",
              "            '<a target=\"_blank\" href=https://colab.research.google.com/notebooks/data_table.ipynb>data table notebook</a>'\n",
              "            + ' to learn more about interactive tables.';\n",
              "          element.innerHTML = '';\n",
              "          dataTable['output_type'] = 'display_data';\n",
              "          await google.colab.output.renderOutput(dataTable, element);\n",
              "          const docLink = document.createElement('div');\n",
              "          docLink.innerHTML = docLinkHtml;\n",
              "          element.appendChild(docLink);\n",
              "        }\n",
              "      </script>\n",
              "    </div>\n",
              "  </div>\n",
              "  "
            ]
          },
          "metadata": {},
          "execution_count": 23
        }
      ]
    },
    {
      "cell_type": "code",
      "source": [
        "cp= df[\"product\"].value_counts()\n",
        "cp"
      ],
      "metadata": {
        "colab": {
          "base_uri": "https://localhost:8080/"
        },
        "id": "w7M4RZKO1jv_",
        "outputId": "4cbc10d3-524b-4989-f9ef-6a678cf3a03b"
      },
      "execution_count": 24,
      "outputs": [
        {
          "output_type": "execute_result",
          "data": {
            "text/plain": [
              "Mortgage                   186475\n",
              "Debt collection            101052\n",
              "Credit reporting            91854\n",
              "Credit card                 66468\n",
              "Bank account or service     62563\n",
              "Consumer Loan               20990\n",
              "Student loan                15839\n",
              "Payday loan                  3877\n",
              "Money transfers              3812\n",
              "Prepaid card                 2470\n",
              "Other financial service       557\n",
              "Name: product, dtype: int64"
            ]
          },
          "metadata": {},
          "execution_count": 24
        }
      ]
    },
    {
      "cell_type": "code",
      "source": [
        "cr= df['company_response_to_consumer'].value_counts()\n",
        "cr"
      ],
      "metadata": {
        "colab": {
          "base_uri": "https://localhost:8080/"
        },
        "id": "UkuHFXQm1j3j",
        "outputId": "63fc6258-9e6d-43eb-cfb9-9e52d61cde6c"
      },
      "execution_count": 25,
      "outputs": [
        {
          "output_type": "execute_result",
          "data": {
            "text/plain": [
              "Closed with explanation            404293\n",
              "Closed with non-monetary relief     70237\n",
              "Closed with monetary relief         38262\n",
              "Closed without relief               17909\n",
              "Closed                              13399\n",
              "Closed with relief                   5305\n",
              "In progress                          3763\n",
              "Untimely response                    2789\n",
              "Name: company_response_to_consumer, dtype: int64"
            ]
          },
          "metadata": {},
          "execution_count": 25
        }
      ]
    },
    {
      "cell_type": "code",
      "source": [
        "disputed = df['consumer_disputed?'].value_counts()\n",
        "tdispute = df['company'].loc[df['consumer_disputed?'] == 'Yes'].value_counts()[:10]\n",
        "tnodispute = df['company'].loc[df['consumer_disputed?'] == 'No'].value_counts()[:10]"
      ],
      "metadata": {
        "id": "dcLLZkCl1kMX"
      },
      "execution_count": 26,
      "outputs": []
    },
    {
      "cell_type": "code",
      "source": [
        "disputed"
      ],
      "metadata": {
        "colab": {
          "base_uri": "https://localhost:8080/"
        },
        "id": "7pn3tkebDt_i",
        "outputId": "0450496e-b2a5-407b-d34d-85a8c4c3e7af"
      },
      "execution_count": 27,
      "outputs": [
        {
          "output_type": "execute_result",
          "data": {
            "text/plain": [
              "No     443823\n",
              "Yes    112134\n",
              "Name: consumer_disputed?, dtype: int64"
            ]
          },
          "metadata": {},
          "execution_count": 27
        }
      ]
    },
    {
      "cell_type": "code",
      "source": [
        "tdispute"
      ],
      "metadata": {
        "colab": {
          "base_uri": "https://localhost:8080/"
        },
        "id": "lgcCptzkDuGQ",
        "outputId": "6b951a81-3d46-46b5-d008-c90ab4b1dd29"
      },
      "execution_count": 28,
      "outputs": [
        {
          "output_type": "execute_result",
          "data": {
            "text/plain": [
              "Bank of America                           12480\n",
              "Wells Fargo & Company                      9644\n",
              "JPMorgan Chase & Co.                       7716\n",
              "Equifax                                    6647\n",
              "Citibank                                   5245\n",
              "Ocwen                                      5067\n",
              "Experian                                   3891\n",
              "TransUnion Intermediate Holdings, Inc.     3824\n",
              "Nationstar Mortgage                        3157\n",
              "Capital One                                2935\n",
              "Name: company, dtype: int64"
            ]
          },
          "metadata": {},
          "execution_count": 28
        }
      ]
    },
    {
      "cell_type": "code",
      "source": [
        "tnodispute"
      ],
      "metadata": {
        "colab": {
          "base_uri": "https://localhost:8080/"
        },
        "id": "gob9C8e7EPoX",
        "outputId": "e79ee049-870a-45dd-baf0-42d7fb3e475a"
      },
      "execution_count": 29,
      "outputs": [
        {
          "output_type": "execute_result",
          "data": {
            "text/plain": [
              "Bank of America                           43518\n",
              "Wells Fargo & Company                     32380\n",
              "Experian                                  27014\n",
              "JPMorgan Chase & Co.                      26165\n",
              "Equifax                                   25181\n",
              "TransUnion Intermediate Holdings, Inc.    21710\n",
              "Citibank                                  20295\n",
              "Ocwen                                     15911\n",
              "Capital One                               12693\n",
              "Nationstar Mortgage                       10093\n",
              "Name: company, dtype: int64"
            ]
          },
          "metadata": {},
          "execution_count": 29
        }
      ]
    },
    {
      "cell_type": "markdown",
      "source": [
        "#**Creating Word Cloud**"
      ],
      "metadata": {
        "id": "LuDsrCtI6x5j"
      }
    },
    {
      "cell_type": "code",
      "source": [
        "disputes_issue = df['issue'].loc[df['consumer_disputed?'] == 'Yes']\n",
        "word_cloud = WordCloud(width = 800,\n",
        "                       height = 600,\n",
        "                       colormap = 'inferno', \n",
        "                       margin = 0,\n",
        "                       max_words = 2000,  \n",
        "                       max_font_size = 80,  \n",
        "                       background_color = \"black\").generate(str(disputes_issue))\n",
        "\n",
        "plt.figure(figsize = (10, 15))\n",
        "plt.imshow(word_cloud, interpolation = \"gaussian\")\n",
        "plt.axis(\"off\")\n",
        "plt.show()"
      ],
      "metadata": {
        "colab": {
          "base_uri": "https://localhost:8080/",
          "height": 449
        },
        "id": "WDiaLfAKGtxz",
        "outputId": "5771cea1-6bf6-4c10-a43c-8807a68750c3"
      },
      "execution_count": 30,
      "outputs": [
        {
          "output_type": "display_data",
          "data": {
            "text/plain": [
              "<Figure size 720x1080 with 1 Axes>"
            ],
            "image/png": "[encoded data removed]"
          },
          "metadata": {
            "needs_background": "light"
          }
        }
      ]
    },
    {
      "cell_type": "code",
      "source": [
        "from sklearn.model_selection import train_test_split\n",
        "from sklearn.feature_extraction.text import CountVectorizer"
      ],
      "metadata": {
        "id": "LLeNDy_IGuA9"
      },
      "execution_count": 31,
      "outputs": []
    },
    {
      "cell_type": "code",
      "source": [
        "df['issue'] = df['issue'].str.strip().str.lower()"
      ],
      "metadata": {
        "id": "n9FAdZCZGuFF"
      },
      "execution_count": 32,
      "outputs": []
    },
    {
      "cell_type": "markdown",
      "source": [
        "## Encode labels"
      ],
      "metadata": {
        "id": "BzMX50zW78iU"
      }
    },
    {
      "cell_type": "code",
      "source": [
        "from sklearn import preprocessing\n",
        " \n",
        "# label_encoder object knows how to understand word labels.\n",
        "label_encoder = preprocessing.LabelEncoder()\n",
        " \n",
        "# Encode labels in column.\n",
        "df['consumer_disputed']= label_encoder.fit_transform(df['consumer_disputed?'])\n",
        " \n",
        "df['consumer_disputed'].unique()\n",
        "# YES = 1\n",
        "# No = 0"
      ],
      "metadata": {
        "colab": {
          "base_uri": "https://localhost:8080/"
        },
        "id": "dviKXal69yt0",
        "outputId": "6955ee2e-daee-49a0-cf87-56bedb8e4db4"
      },
      "execution_count": 33,
      "outputs": [
        {
          "output_type": "execute_result",
          "data": {
            "text/plain": [
              "array([1, 0])"
            ]
          },
          "metadata": {},
          "execution_count": 33
        }
      ]
    },
    {
      "cell_type": "code",
      "source": [
        "df"
      ],
      "metadata": {
        "colab": {
          "base_uri": "https://localhost:8080/",
          "height": 852
        },
        "id": "jwYncNmmLtus",
        "outputId": "96e78339-0e78-4e76-816f-5e6a17bddae3"
      },
      "execution_count": 34,
      "outputs": [
        {
          "output_type": "execute_result",
          "data": {
            "text/plain": [
              "       date_received           product                  sub_product  \\\n",
              "0         08/30/2013          Mortgage               Other mortgage   \n",
              "1         08/30/2013          Mortgage               Other mortgage   \n",
              "2         08/30/2013  Credit reporting                          NaN   \n",
              "3         08/30/2013      Student loan     Non-federal student loan   \n",
              "4         08/30/2013   Debt collection                  Credit card   \n",
              "...              ...               ...                          ...   \n",
              "555952    07/01/2014          Mortgage               Other mortgage   \n",
              "555953    07/01/2014          Mortgage               Other mortgage   \n",
              "555954    07/10/2012          Mortgage  Conventional fixed mortgage   \n",
              "555955    04/14/2015   Debt collection                I do not know   \n",
              "555956    08/14/2014   Debt collection                I do not know   \n",
              "\n",
              "                                           issue  \\\n",
              "0       loan modification,collection,foreclosure   \n",
              "1       loan servicing, payments, escrow account   \n",
              "2         incorrect information on credit report   \n",
              "3                             repaying your loan   \n",
              "4             false statements or representation   \n",
              "...                                          ...   \n",
              "555952  loan modification,collection,foreclosure   \n",
              "555953  loan servicing, payments, escrow account   \n",
              "555954  loan modification,collection,foreclosure   \n",
              "555955                     communication tactics   \n",
              "555956     cont'd attempts collect debt not owed   \n",
              "\n",
              "                                sub_issue consumer_complaint_narrative  \\\n",
              "0                                     NaN                          NaN   \n",
              "1                                     NaN                          NaN   \n",
              "2                          Account status                          NaN   \n",
              "3                      Repaying your loan                          NaN   \n",
              "4       Attempted to collect wrong amount                          NaN   \n",
              "...                                   ...                          ...   \n",
              "555952                                NaN                          NaN   \n",
              "555953                                NaN                          NaN   \n",
              "555954                                NaN                          NaN   \n",
              "555955         Frequent or repeated calls                          NaN   \n",
              "555956                   Debt is not mine                          NaN   \n",
              "\n",
              "       company_public_response                          company state zipcode  \\\n",
              "0                          NaN                     U.S. Bancorp    CA   95993   \n",
              "1                          NaN            Wells Fargo & Company    CA   91104   \n",
              "2                          NaN            Wells Fargo & Company    NY   11764   \n",
              "3                          NaN          Navient Solutions, Inc.    MD   21402   \n",
              "4                          NaN  Resurgent Capital Services L.P.    GA   30106   \n",
              "...                        ...                              ...   ...     ...   \n",
              "555952                     NaN                  Bank of America   NaN     NaN   \n",
              "555953                     NaN     Residential Credit Solutions   NaN     NaN   \n",
              "555954                     NaN                   BB&T Financial   NaN     NaN   \n",
              "555955                     NaN            Global Recovery Group   NaN     NaN   \n",
              "555956                     NaN     CCS Financial Services, Inc.   NaN     NaN   \n",
              "\n",
              "                                 tags consumer_consent_provided submitted_via  \\\n",
              "0                                 NaN                       NaN      Referral   \n",
              "1                                 NaN                       NaN      Referral   \n",
              "2                                 NaN                       NaN   Postal mail   \n",
              "3                                 NaN                       NaN         Email   \n",
              "4                                 NaN                       NaN           Web   \n",
              "...                               ...                       ...           ...   \n",
              "555952                            NaN                       NaN      Referral   \n",
              "555953  Older American, Servicemember                       NaN      Referral   \n",
              "555954                            NaN                       NaN         Phone   \n",
              "555955                            NaN                       NaN         Phone   \n",
              "555956                            NaN                       NaN         Phone   \n",
              "\n",
              "       date_sent_to_company company_response_to_consumer timely_response  \\\n",
              "0                09/03/2013      Closed with explanation             Yes   \n",
              "1                09/03/2013      Closed with explanation             Yes   \n",
              "2                09/18/2013      Closed with explanation             Yes   \n",
              "3                08/30/2013      Closed with explanation             Yes   \n",
              "4                08/30/2013      Closed with explanation             Yes   \n",
              "...                     ...                          ...             ...   \n",
              "555952           07/07/2014      Closed with explanation             Yes   \n",
              "555953           07/23/2014      Closed with explanation              No   \n",
              "555954           11/18/2013      Closed with explanation             Yes   \n",
              "555955           04/14/2015            Untimely response              No   \n",
              "555956           08/18/2014      Closed with explanation             Yes   \n",
              "\n",
              "       consumer_disputed?  complaint_id  consumer_disputed  \n",
              "0                     Yes        511074                  1  \n",
              "1                     Yes        511080                  1  \n",
              "2                      No        510473                  0  \n",
              "3                     Yes        510326                  1  \n",
              "4                     Yes        511067                  1  \n",
              "...                   ...           ...                ...  \n",
              "555952                 No        919529                  0  \n",
              "555953                 No        918447                  0  \n",
              "555954                 No        114550                  0  \n",
              "555955                 No       1329963                  0  \n",
              "555956                 No        984116                  0  \n",
              "\n",
              "[555957 rows x 19 columns]"
            ],
            "text/html": [
              "\n",
              "  <div id=\"df-307d358c-fe27-4503-9094-1f7bf18a2094\">\n",
              "    <div class=\"colab-df-container\">\n",
              "      <div>\n",
              "<style scoped>\n",
              "    .dataframe tbody tr th:only-of-type {\n",
              "        vertical-align: middle;\n",
              "    }\n",
              "\n",
              "    .dataframe tbody tr th {\n",
              "        vertical-align: top;\n",
              "    }\n",
              "\n",
              "    .dataframe thead th {\n",
              "        text-align: right;\n",
              "    }\n",
              "</style>\n",
              "<table border=\"1\" class=\"dataframe\">\n",
              "  <thead>\n",
              "    <tr style=\"text-align: right;\">\n",
              "      <th></th>\n",
              "      <th>date_received</th>\n",
              "      <th>product</th>\n",
              "      <th>sub_product</th>\n",
              "      <th>issue</th>\n",
              "      <th>sub_issue</th>\n",
              "      <th>consumer_complaint_narrative</th>\n",
              "      <th>company_public_response</th>\n",
              "      <th>company</th>\n",
              "      <th>state</th>\n",
              "      <th>zipcode</th>\n",
              "      <th>tags</th>\n",
              "      <th>consumer_consent_provided</th>\n",
              "      <th>submitted_via</th>\n",
              "      <th>date_sent_to_company</th>\n",
              "      <th>company_response_to_consumer</th>\n",
              "      <th>timely_response</th>\n",
              "      <th>consumer_disputed?</th>\n",
              "      <th>complaint_id</th>\n",
              "      <th>consumer_disputed</th>\n",
              "    </tr>\n",
              "  </thead>\n",
              "  <tbody>\n",
              "    <tr>\n",
              "      <th>0</th>\n",
              "      <td>08/30/2013</td>\n",
              "      <td>Mortgage</td>\n",
              "      <td>Other mortgage</td>\n",
              "      <td>loan modification,collection,foreclosure</td>\n",
              "      <td>NaN</td>\n",
              "      <td>NaN</td>\n",
              "      <td>NaN</td>\n",
              "      <td>U.S. Bancorp</td>\n",
              "      <td>CA</td>\n",
              "      <td>95993</td>\n",
              "      <td>NaN</td>\n",
              "      <td>NaN</td>\n",
              "      <td>Referral</td>\n",
              "      <td>09/03/2013</td>\n",
              "      <td>Closed with explanation</td>\n",
              "      <td>Yes</td>\n",
              "      <td>Yes</td>\n",
              "      <td>511074</td>\n",
              "      <td>1</td>\n",
              "    </tr>\n",
              "    <tr>\n",
              "      <th>1</th>\n",
              "      <td>08/30/2013</td>\n",
              "      <td>Mortgage</td>\n",
              "      <td>Other mortgage</td>\n",
              "      <td>loan servicing, payments, escrow account</td>\n",
              "      <td>NaN</td>\n",
              "      <td>NaN</td>\n",
              "      <td>NaN</td>\n",
              "      <td>Wells Fargo &amp; Company</td>\n",
              "      <td>CA</td>\n",
              "      <td>91104</td>\n",
              "      <td>NaN</td>\n",
              "      <td>NaN</td>\n",
              "      <td>Referral</td>\n",
              "      <td>09/03/2013</td>\n",
              "      <td>Closed with explanation</td>\n",
              "      <td>Yes</td>\n",
              "      <td>Yes</td>\n",
              "      <td>511080</td>\n",
              "      <td>1</td>\n",
              "    </tr>\n",
              "    <tr>\n",
              "      <th>2</th>\n",
              "      <td>08/30/2013</td>\n",
              "      <td>Credit reporting</td>\n",
              "      <td>NaN</td>\n",
              "      <td>incorrect information on credit report</td>\n",
              "      <td>Account status</td>\n",
              "      <td>NaN</td>\n",
              "      <td>NaN</td>\n",
              "      <td>Wells Fargo &amp; Company</td>\n",
              "      <td>NY</td>\n",
              "      <td>11764</td>\n",
              "      <td>NaN</td>\n",
              "      <td>NaN</td>\n",
              "      <td>Postal mail</td>\n",
              "      <td>09/18/2013</td>\n",
              "      <td>Closed with explanation</td>\n",
              "      <td>Yes</td>\n",
              "      <td>No</td>\n",
              "      <td>510473</td>\n",
              "      <td>0</td>\n",
              "    </tr>\n",
              "    <tr>\n",
              "      <th>3</th>\n",
              "      <td>08/30/2013</td>\n",
              "      <td>Student loan</td>\n",
              "      <td>Non-federal student loan</td>\n",
              "      <td>repaying your loan</td>\n",
              "      <td>Repaying your loan</td>\n",
              "      <td>NaN</td>\n",
              "      <td>NaN</td>\n",
              "      <td>Navient Solutions, Inc.</td>\n",
              "      <td>MD</td>\n",
              "      <td>21402</td>\n",
              "      <td>NaN</td>\n",
              "      <td>NaN</td>\n",
              "      <td>Email</td>\n",
              "      <td>08/30/2013</td>\n",
              "      <td>Closed with explanation</td>\n",
              "      <td>Yes</td>\n",
              "      <td>Yes</td>\n",
              "      <td>510326</td>\n",
              "      <td>1</td>\n",
              "    </tr>\n",
              "    <tr>\n",
              "      <th>4</th>\n",
              "      <td>08/30/2013</td>\n",
              "      <td>Debt collection</td>\n",
              "      <td>Credit card</td>\n",
              "      <td>false statements or representation</td>\n",
              "      <td>Attempted to collect wrong amount</td>\n",
              "      <td>NaN</td>\n",
              "      <td>NaN</td>\n",
              "      <td>Resurgent Capital Services L.P.</td>\n",
              "      <td>GA</td>\n",
              "      <td>30106</td>\n",
              "      <td>NaN</td>\n",
              "      <td>NaN</td>\n",
              "      <td>Web</td>\n",
              "      <td>08/30/2013</td>\n",
              "      <td>Closed with explanation</td>\n",
              "      <td>Yes</td>\n",
              "      <td>Yes</td>\n",
              "      <td>511067</td>\n",
              "      <td>1</td>\n",
              "    </tr>\n",
              "    <tr>\n",
              "      <th>...</th>\n",
              "      <td>...</td>\n",
              "      <td>...</td>\n",
              "      <td>...</td>\n",
              "      <td>...</td>\n",
              "      <td>...</td>\n",
              "      <td>...</td>\n",
              "      <td>...</td>\n",
              "      <td>...</td>\n",
              "      <td>...</td>\n",
              "      <td>...</td>\n",
              "      <td>...</td>\n",
              "      <td>...</td>\n",
              "      <td>...</td>\n",
              "      <td>...</td>\n",
              "      <td>...</td>\n",
              "      <td>...</td>\n",
              "      <td>...</td>\n",
              "      <td>...</td>\n",
              "      <td>...</td>\n",
              "    </tr>\n",
              "    <tr>\n",
              "      <th>555952</th>\n",
              "      <td>07/01/2014</td>\n",
              "      <td>Mortgage</td>\n",
              "      <td>Other mortgage</td>\n",
              "      <td>loan modification,collection,foreclosure</td>\n",
              "      <td>NaN</td>\n",
              "      <td>NaN</td>\n",
              "      <td>NaN</td>\n",
              "      <td>Bank of America</td>\n",
              "      <td>NaN</td>\n",
              "      <td>NaN</td>\n",
              "      <td>NaN</td>\n",
              "      <td>NaN</td>\n",
              "      <td>Referral</td>\n",
              "      <td>07/07/2014</td>\n",
              "      <td>Closed with explanation</td>\n",
              "      <td>Yes</td>\n",
              "      <td>No</td>\n",
              "      <td>919529</td>\n",
              "      <td>0</td>\n",
              "    </tr>\n",
              "    <tr>\n",
              "      <th>555953</th>\n",
              "      <td>07/01/2014</td>\n",
              "      <td>Mortgage</td>\n",
              "      <td>Other mortgage</td>\n",
              "      <td>loan servicing, payments, escrow account</td>\n",
              "      <td>NaN</td>\n",
              "      <td>NaN</td>\n",
              "      <td>NaN</td>\n",
              "      <td>Residential Credit Solutions</td>\n",
              "      <td>NaN</td>\n",
              "      <td>NaN</td>\n",
              "      <td>Older American, Servicemember</td>\n",
              "      <td>NaN</td>\n",
              "      <td>Referral</td>\n",
              "      <td>07/23/2014</td>\n",
              "      <td>Closed with explanation</td>\n",
              "      <td>No</td>\n",
              "      <td>No</td>\n",
              "      <td>918447</td>\n",
              "      <td>0</td>\n",
              "    </tr>\n",
              "    <tr>\n",
              "      <th>555954</th>\n",
              "      <td>07/10/2012</td>\n",
              "      <td>Mortgage</td>\n",
              "      <td>Conventional fixed mortgage</td>\n",
              "      <td>loan modification,collection,foreclosure</td>\n",
              "      <td>NaN</td>\n",
              "      <td>NaN</td>\n",
              "      <td>NaN</td>\n",
              "      <td>BB&amp;T Financial</td>\n",
              "      <td>NaN</td>\n",
              "      <td>NaN</td>\n",
              "      <td>NaN</td>\n",
              "      <td>NaN</td>\n",
              "      <td>Phone</td>\n",
              "      <td>11/18/2013</td>\n",
              "      <td>Closed with explanation</td>\n",
              "      <td>Yes</td>\n",
              "      <td>No</td>\n",
              "      <td>114550</td>\n",
              "      <td>0</td>\n",
              "    </tr>\n",
              "    <tr>\n",
              "      <th>555955</th>\n",
              "      <td>04/14/2015</td>\n",
              "      <td>Debt collection</td>\n",
              "      <td>I do not know</td>\n",
              "      <td>communication tactics</td>\n",
              "      <td>Frequent or repeated calls</td>\n",
              "      <td>NaN</td>\n",
              "      <td>NaN</td>\n",
              "      <td>Global Recovery Group</td>\n",
              "      <td>NaN</td>\n",
              "      <td>NaN</td>\n",
              "      <td>NaN</td>\n",
              "      <td>NaN</td>\n",
              "      <td>Phone</td>\n",
              "      <td>04/14/2015</td>\n",
              "      <td>Untimely response</td>\n",
              "      <td>No</td>\n",
              "      <td>No</td>\n",
              "      <td>1329963</td>\n",
              "      <td>0</td>\n",
              "    </tr>\n",
              "    <tr>\n",
              "      <th>555956</th>\n",
              "      <td>08/14/2014</td>\n",
              "      <td>Debt collection</td>\n",
              "      <td>I do not know</td>\n",
              "      <td>cont'd attempts collect debt not owed</td>\n",
              "      <td>Debt is not mine</td>\n",
              "      <td>NaN</td>\n",
              "      <td>NaN</td>\n",
              "      <td>CCS Financial Services, Inc.</td>\n",
              "      <td>NaN</td>\n",
              "      <td>NaN</td>\n",
              "      <td>NaN</td>\n",
              "      <td>NaN</td>\n",
              "      <td>Phone</td>\n",
              "      <td>08/18/2014</td>\n",
              "      <td>Closed with explanation</td>\n",
              "      <td>Yes</td>\n",
              "      <td>No</td>\n",
              "      <td>984116</td>\n",
              "      <td>0</td>\n",
              "    </tr>\n",
              "  </tbody>\n",
              "</table>\n",
              "<p>555957 rows × 19 columns</p>\n",
              "</div>\n",
              "      <button class=\"colab-df-convert\" onclick=\"convertToInteractive('df-307d358c-fe27-4503-9094-1f7bf18a2094')\"\n",
              "              title=\"Convert this dataframe to an interactive table.\"\n",
              "              style=\"display:none;\">\n",
              "        \n",
              "  <svg xmlns=\"http://www.w3.org/2000/svg\" height=\"24px\"viewBox=\"0 0 24 24\"\n",
              "       width=\"24px\">\n",
              "    <path d=\"M0 0h24v24H0V0z\" fill=\"none\"/>\n",
              "    <path d=\"M18.56 5.44l.94 2.06.94-2.06 2.06-.94-2.06-.94-.94-2.06-.94 2.06-2.06.94zm-11 1L8.5 8.5l.94-2.06 2.06-.94-2.06-.94L8.5 2.5l-.94 2.06-2.06.94zm10 10l.94 2.06.94-2.06 2.06-.94-2.06-.94-.94-2.06-.94 2.06-2.06.94z\"/><path d=\"M17.41 7.96l-1.37-1.37c-.4-.4-.92-.59-1.43-.59-.52 0-1.04.2-1.43.59L10.3 9.45l-7.72 7.72c-.78.78-.78 2.05 0 2.83L4 21.41c.39.39.9.59 1.41.59.51 0 1.02-.2 1.41-.59l7.78-7.78 2.81-2.81c.8-.78.8-2.07 0-2.86zM5.41 20L4 18.59l7.72-7.72 1.47 1.35L5.41 20z\"/>\n",
              "  </svg>\n",
              "      </button>\n",
              "      \n",
              "  <style>\n",
              "    .colab-df-container {\n",
              "      display:flex;\n",
              "      flex-wrap:wrap;\n",
              "      gap: 12px;\n",
              "    }\n",
              "\n",
              "    .colab-df-convert {\n",
              "      background-color: #E8F0FE;\n",
              "      border: none;\n",
              "      border-radius: 50%;\n",
              "      cursor: pointer;\n",
              "      display: none;\n",
              "      fill: #1967D2;\n",
              "      height: 32px;\n",
              "      padding: 0 0 0 0;\n",
              "      width: 32px;\n",
              "    }\n",
              "\n",
              "    .colab-df-convert:hover {\n",
              "      background-color: #E2EBFA;\n",
              "      box-shadow: 0px 1px 2px rgba(60, 64, 67, 0.3), 0px 1px 3px 1px rgba(60, 64, 67, 0.15);\n",
              "      fill: #174EA6;\n",
              "    }\n",
              "\n",
              "    [theme=dark] .colab-df-convert {\n",
              "      background-color: #3B4455;\n",
              "      fill: #D2E3FC;\n",
              "    }\n",
              "\n",
              "    [theme=dark] .colab-df-convert:hover {\n",
              "      background-color: #434B5C;\n",
              "      box-shadow: 0px 1px 3px 1px rgba(0, 0, 0, 0.15);\n",
              "      filter: drop-shadow(0px 1px 2px rgba(0, 0, 0, 0.3));\n",
              "      fill: #FFFFFF;\n",
              "    }\n",
              "  </style>\n",
              "\n",
              "      <script>\n",
              "        const buttonEl =\n",
              "          document.querySelector('#df-307d358c-fe27-4503-9094-1f7bf18a2094 button.colab-df-convert');\n",
              "        buttonEl.style.display =\n",
              "          google.colab.kernel.accessAllowed ? 'block' : 'none';\n",
              "\n",
              "        async function convertToInteractive(key) {\n",
              "          const element = document.querySelector('#df-307d358c-fe27-4503-9094-1f7bf18a2094');\n",
              "          const dataTable =\n",
              "            await google.colab.kernel.invokeFunction('convertToInteractive',\n",
              "                                                     [key], {});\n",
              "          if (!dataTable) return;\n",
              "\n",
              "          const docLinkHtml = 'Like what you see? Visit the ' +\n",
              "            '<a target=\"_blank\" href=https://colab.research.google.com/notebooks/data_table.ipynb>data table notebook</a>'\n",
              "            + ' to learn more about interactive tables.';\n",
              "          element.innerHTML = '';\n",
              "          dataTable['output_type'] = 'display_data';\n",
              "          await google.colab.output.renderOutput(dataTable, element);\n",
              "          const docLink = document.createElement('div');\n",
              "          docLink.innerHTML = docLinkHtml;\n",
              "          element.appendChild(docLink);\n",
              "        }\n",
              "      </script>\n",
              "    </div>\n",
              "  </div>\n",
              "  "
            ]
          },
          "metadata": {},
          "execution_count": 34
        }
      ]
    },
    {
      "cell_type": "markdown",
      "source": [
        "## Dividing dataset into test and train set"
      ],
      "metadata": {
        "id": "mDnO2Z757Sex"
      }
    },
    {
      "cell_type": "code",
      "source": [
        "x = df['issue']\n",
        "y = df['consumer_disputed']\n",
        "x, x_test, y, y_test = train_test_split(x,y, stratify=y, test_size=0.25, random_state=42)"
      ],
      "metadata": {
        "id": "SJv0aROM87ZR"
      },
      "execution_count": 35,
      "outputs": []
    },
    {
      "cell_type": "markdown",
      "source": [
        "## Vectorize text reviews to numbers"
      ],
      "metadata": {
        "id": "YjpgSttH7PZu"
      }
    },
    {
      "cell_type": "code",
      "source": [
        "vec = CountVectorizer(stop_words='english')\n",
        "x = vec.fit_transform(x).toarray()\n",
        "x_test = vec.transform(x_test).toarray()"
      ],
      "metadata": {
        "id": "mF_EhGA-87eQ"
      },
      "execution_count": 36,
      "outputs": []
    },
    {
      "cell_type": "markdown",
      "source": [
        "##**Navie Bayes**"
      ],
      "metadata": {
        "id": "h-Gor7K36__L"
      }
    },
    {
      "cell_type": "code",
      "source": [
        "from sklearn.naive_bayes import MultinomialNB\n",
        "model = MultinomialNB()\n",
        "model.fit(x, y)"
      ],
      "metadata": {
        "colab": {
          "base_uri": "https://localhost:8080/"
        },
        "id": "EWTucfup87hS",
        "outputId": "e84ddb1f-2a3c-419f-854a-c968e8e6051a"
      },
      "execution_count": 18,
      "outputs": [
        {
          "output_type": "execute_result",
          "data": {
            "text/plain": [
              "MultinomialNB()"
            ]
          },
          "metadata": {},
          "execution_count": 18
        }
      ]
    },
    {
      "cell_type": "code",
      "source": [
        "model.score(x_test, y_test)"
      ],
      "metadata": {
        "colab": {
          "base_uri": "https://localhost:8080/"
        },
        "id": "Si7dyWBO87ji",
        "outputId": "90f29d3a-59dd-47ae-91cd-1d910c12ba70"
      },
      "execution_count": 19,
      "outputs": [
        {
          "output_type": "execute_result",
          "data": {
            "text/plain": [
              "0.7866393265702568"
            ]
          },
          "metadata": {},
          "execution_count": 19
        }
      ]
    },
    {
      "cell_type": "code",
      "source": [
        "model.predict(vec.transform(['Communication tactics']))"
      ],
      "metadata": {
        "colab": {
          "base_uri": "https://localhost:8080/"
        },
        "id": "a_sMS6LQ87lX",
        "outputId": "9960fd37-ff57-4eed-ecac-66356fb2f56b"
      },
      "execution_count": 20,
      "outputs": [
        {
          "output_type": "execute_result",
          "data": {
            "text/plain": [
              "array([0])"
            ]
          },
          "metadata": {},
          "execution_count": 20
        }
      ]
    },
    {
      "cell_type": "markdown",
      "source": [
        "# **Decision Tree**\n"
      ],
      "metadata": {
        "id": "sFixBPmL-V37"
      }
    },
    {
      "cell_type": "code",
      "source": [
        "from sklearn.tree import DecisionTreeClassifier\n",
        "dct = DecisionTreeClassifier(criterion='entropy', random_state=1)"
      ],
      "metadata": {
        "id": "4Iw4TuTf87ns"
      },
      "execution_count": 21,
      "outputs": []
    },
    {
      "cell_type": "code",
      "source": [
        "dct.fit(x,y)"
      ],
      "metadata": {
        "colab": {
          "base_uri": "https://localhost:8080/"
        },
        "id": "OMtI7EjR-VWi",
        "outputId": "73457e7a-eeb9-49ee-ab90-01451d6e5472"
      },
      "execution_count": 22,
      "outputs": [
        {
          "output_type": "execute_result",
          "data": {
            "text/plain": [
              "DecisionTreeClassifier(criterion='entropy', random_state=1)"
            ]
          },
          "metadata": {},
          "execution_count": 22
        }
      ]
    },
    {
      "cell_type": "code",
      "source": [
        "dct.score(x_test,y_test)"
      ],
      "metadata": {
        "colab": {
          "base_uri": "https://localhost:8080/"
        },
        "id": "XAu-5Ztb-VQ5",
        "outputId": "c755e14d-f2da-4fd0-bfc7-312dc1274713"
      },
      "execution_count": 39,
      "outputs": [
        {
          "output_type": "execute_result",
          "data": {
            "text/plain": [
              "0.7983020361177063"
            ]
          },
          "metadata": {},
          "execution_count": 39
        }
      ]
    },
    {
      "cell_type": "code",
      "source": [
        "dct.predict(vec.transform(['Managing the loan or lease']))"
      ],
      "metadata": {
        "colab": {
          "base_uri": "https://localhost:8080/"
        },
        "id": "EAmdM5aQKF0_",
        "outputId": "9fbf0bcd-55e8-4530-ec7d-e697a61005c6"
      },
      "execution_count": 24,
      "outputs": [
        {
          "output_type": "execute_result",
          "data": {
            "text/plain": [
              "array([0])"
            ]
          },
          "metadata": {},
          "execution_count": 24
        }
      ]
    },
    {
      "cell_type": "markdown",
      "source": [
        "# **KNN** "
      ],
      "metadata": {
        "id": "FHw6lRS--EX7"
      }
    },
    {
      "cell_type": "code",
      "source": [
        "from sklearn.neighbors import KNeighborsClassifier\n",
        "from sklearn.metrics import accuracy_score"
      ],
      "metadata": {
        "id": "lcQ7Q0t_-GtD"
      },
      "execution_count": 25,
      "outputs": []
    },
    {
      "cell_type": "code",
      "source": [
        "model1 = KNeighborsClassifier(n_neighbors=2)\n",
        "model1.fit(x,y)\n",
        "\n",
        "y_pred = model1.predict(x_test)\n",
        "\n",
        "accuracy = accuracy_score(y_test, y_pred)\n",
        "print('Accuracy',accuracy)"
      ],
      "metadata": {
        "colab": {
          "base_uri": "https://localhost:8080/"
        },
        "id": "w7pNwhT18J6X",
        "outputId": "7dc48f4c-29b3-4daf-deda-6e6a7da2652b"
      },
      "execution_count": 27,
      "outputs": [
        {
          "output_type": "stream",
          "name": "stdout",
          "text": [
            "Accuracy 0.789358946686812\n"
          ]
        }
      ]
    },
    {
      "cell_type": "markdown",
      "source": [
        "## Accuracy of ML Algorithms\n"
      ],
      "metadata": {
        "id": "lAhAxB62MNdd"
      }
    },
    {
      "cell_type": "code",
      "source": [
        "a = model.score(x_test, y_test)\n",
        "b = dct.score(x_test,y_test)\n",
        "c = accuracy\n",
        "print(\"Navie Bayes Accuracy = \",a)\n",
        "print(\"Decision Tree Accuracy = \",b)\n",
        "print(\"KNN Accuracy = \",c)\n"
      ],
      "metadata": {
        "colab": {
          "base_uri": "https://localhost:8080/"
        },
        "id": "qcVUzUoOMMNp",
        "outputId": "4257c8d7-a957-4f37-af34-0556bc08fee7"
      },
      "execution_count": 42,
      "outputs": [
        {
          "output_type": "stream",
          "name": "stdout",
          "text": [
            "Navie Bayes Accuracy =  0.7866393265702568\n",
            "Decision Tree Accuracy =  0.7983020361177063\n",
            "KNN Accuracy =  0.789358946686812\n"
          ]
        }
      ]
    },
    {
      "cell_type": "code",
      "source": [
        "data = {\"Navie Bayes\":a, \"Decision Tree\":b,\"KNN\":c}\n",
        "ML = list(data.keys())\n",
        "Accuracy = list(data.values())\n",
        "\n",
        "fig = plt.figure(figsize = (10,5))\n",
        "\n",
        "plt.bar(ML, Accuracy, color = \"blue\", width = 0.5)\n",
        "\n",
        "plt.xlabel(\"ML Algorithms\")\n",
        "plt.ylabel(\"Accuracy\")\n",
        "plt.title(\"Accuracy of different ML algorithms\")\n",
        "plt.show()"
      ],
      "metadata": {
        "colab": {
          "base_uri": "https://localhost:8080/",
          "height": 350
        },
        "id": "1ZRK8TlE9PG7",
        "outputId": "d7c9b5d3-1b74-4999-b314-d103e762eec1"
      },
      "execution_count": 44,
      "outputs": [
        {
          "output_type": "display_data",
          "data": {
            "text/plain": [
              "<Figure size 720x360 with 1 Axes>"
            ],
            "image/png": "[encoded data removed]"
          },
          "metadata": {
            "needs_background": "light"
          }
        }
      ]
    }
  ]
}